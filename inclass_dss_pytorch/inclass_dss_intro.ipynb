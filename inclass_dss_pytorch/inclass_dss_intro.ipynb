{
 "cells": [
  {
   "cell_type": "markdown",
   "id": "c78c17c7",
   "metadata": {},
   "source": [
    "<img src=\"assets/logo.png\" width=\"150\">\n",
    "\n",
    "**Coursebook: Time Series Forecasting with Pytorch**\n",
    "\n",
    "- Last Update: February 2023\n",
    "___\n",
    "\n",
    "Developed by Kevin Wibowo\n"
   ]
  },
  {
   "cell_type": "markdown",
   "id": "bbedde9a",
   "metadata": {},
   "source": [
    "The coursebook is prepared by [Algoritma](https://algorit.ma). The coursebook is intended for a restricted audience only, i.e. the individuals and organizations having received this coursebook directly from the training organization. It may not be reproduced, distributed, translated or adapted in any form outside these individuals and organizations without permission.\n",
    "\n",
    "Algoritma is a data science education center based in Jakarta. We organize workshops and training programs to help working professionals and students gain mastery in various data science sub-fields: data visualization, machine learning, data modeling, statistical inference etc."
   ]
  },
  {
   "cell_type": "markdown",
   "id": "f7aa14fd",
   "metadata": {},
   "source": [
    "# Kata Pengantar\n",
    "\n",
    "## Background\n",
    "\n",
    "Perubahan iklim dalam beberapa waktu ke belakang telah memberikan dampak yang besar pada kehidupan manusia, salah satunya adalah peningkatan tinggi muka air laut. Siklus perubahan tinggi muka air laut yang normalnya hanya dipengaruhi oleh gaya tarik bulan dan matahari tidak lagi stabil secara berulang tetapi terjadi peningkatan yang signifikan. Oleh karena itu kita ingin melakukan analisis perubahan tinggi muka air laut akibat perubahan iklim dengan melakukan peramalan peningkatannya. Berdasarkan masalah ini, kita akan membuat model machine learning dengan library PyTorch."
   ]
  },
  {
   "cell_type": "markdown",
   "id": "578c645f",
   "metadata": {},
   "source": [
    "# Python Programming Basic\n",
    "\n",
    "## Setting up Anaconda Environment\n",
    "\n",
    "**Cara membuat virtual environment:**\n",
    "\n",
    "1. Buka Anaconda Prompt\n",
    "\n",
    "2. Buat virtual environment baru menggunakan syntax:\n",
    "    ```\n",
    "    conda create -n <ENV_NAME> python=<PYTHON_VERSION>\n",
    "    ```\n",
    "    Contoh: `conda create -n dss_tsfeb python=3.10`\n",
    "\n",
    "\n",
    "3. Aktivasi virtual environment baru:\n",
    "    ```\n",
    "    conda activate <ENV_NAME>\n",
    "    ```\n",
    "    For example: `conda activate dss_tsfeb`\n",
    "    \n",
    "    \n",
    "4. Ubah working directory terminal ke lokasi tempat menaruh requirements.txt. Sebagai contoh jika file .txt tersebut tersimpan di Desktop, gunakan: `cd Desktop`\n",
    "\n",
    "\n",
    "5. Untuk standardisasi library, silakan install menggunakan requirementx.txt yang sudah dibagikan. Gunakan syntax berikut:\n",
    "    ```\n",
    "    pip install -r requirements.txt\n",
    "    ```\n",
    "    \n",
    "6. Install kernel agar virtual environment tersambung ke Jupyter Notebook.\n",
    "    ```\n",
    "    python -m ipykernel install --user --name=<ENV_NAME>\n",
    "    ```\n",
    "    For example: `python -m ipykernel install --user --name=dss_tsfeb`\n"
   ]
  },
  {
   "cell_type": "markdown",
   "id": "b43f90ec",
   "metadata": {},
   "source": [
    "## Working with Jupyter Notebook\n",
    "\n",
    "### Markdown Cell and Code Cell\n",
    "\n",
    "Kumpulan shortcut: **CTRL + SHIFT + P**\n",
    "\n",
    "Tipe cell dalam notebook:\n",
    "1. Markdown \n",
    "2. Code\n",
    "\n",
    "Area ini adalah markdown cell. Kita dapat menulis text dengan format seperti **bold** atau *italic*. Tidak hanya itu, kita bahkan dapat menulis formula matematika seperti:\n",
    "\n",
    "\\begin{equation}\n",
    "f(x) = \\frac{e^{-x}}{(1+e^{-x})}\n",
    "\\end{equation}\n"
   ]
  },
  {
   "cell_type": "code",
   "execution_count": null,
   "id": "ba2603af",
   "metadata": {},
   "outputs": [],
   "source": []
  },
  {
   "cell_type": "markdown",
   "id": "1204bd6a",
   "metadata": {},
   "source": [
    "### Command Mode and Edit Mode\n",
    "\n",
    "Mode cell dalam notebook:\n",
    "1. Command mode (cell berwarna BIRU)\n",
    "    - `a` : add cell above \n",
    "    - `b` : add cell below \n",
    "    - `d` + `d` : delete selected cell \n",
    "    - `x` : cut selected cell \n",
    "    - `c` : copy selected cell \n",
    "    - `v` : paste selected cell \n",
    "    - `z` : undo \n",
    "    - `m` : change cell type to markdown \n",
    "    - `y` : change cell type to code\n",
    "    - `enter` : enter Edit Mode\n",
    "    - `h` : show keyboard shortcuts\n",
    "\n",
    "\n",
    "2. Edit mode (cell berwarna HIJAU)\n",
    "    - `Ctrl + Enter`: eksekusi satu cell\n",
    "    - `Shift + enter`: eksekusi satu cell\n",
    "    - `Esc`: Mengubah edit mode menjadi command mode"
   ]
  },
  {
   "cell_type": "markdown",
   "id": "c74fe210",
   "metadata": {},
   "source": [
    "## Variables and Keywords\n",
    "\n",
    "**Variable** adalah sebuah nama yang dipakai untuk menunjukkan sebuah nilai. Tanda `=` dipakai untuk membuat variable baru. Proses ini sering disebut sebagai **assignment**.\n",
    "\n",
    "Python adalah bahasa pemrograman yang **case-sensitive** sehingga penamaan variable menjadi hal yang perlu diperhatikan. Misal penulisan variable `activity` dengan awalan huruf `a` kecil berbeda dengan yang diawali dengan huruf `A` besar.\n",
    "\n",
    "Berikut beberapa anjuran dalam memberikan nama variable pada Python:\n",
    "- Menggunakan kombinasi dari huruf kapital (A-Z), huruf nomina (a-z), angka (0-9).\n",
    "- Special character `!, $ , &, dll` tidak dapat digunakan dalam penamaan variabel. (contoh: you&me) \n",
    "- Tidak boleh menggunakan angka di awal. (contoh: 123Algoritma)\n",
    "- Tidak boleh menggunakan keyword pada Python\n",
    "- Bersifat case-sensitive sehingga penamaan variable `algoritma`, `ALGORITMA`, dan `Algoritma` adalah 3 variable yang berbeda\n",
    "___\n",
    "\n",
    "**Keywords** adalah kata kunci yang sudah ditetapkan oleh Python sebagai nama yang tidak bisa dipakai baik untuk penamaan fungsi, variabel, dan lainnya. Keyword ditulis dalam lower-case (huruf kecil semua) kecuali keyword `True`, `False`, dan `None`. Sejauh ini (Python 3.7) keyword yang ada pada Python adalah sebagai berikut:"
   ]
  },
  {
   "cell_type": "code",
   "execution_count": null,
   "id": "7e042495",
   "metadata": {},
   "outputs": [],
   "source": []
  },
  {
   "cell_type": "code",
   "execution_count": null,
   "id": "af4d7b1e",
   "metadata": {},
   "outputs": [],
   "source": [
    "# Cek daftar keyword\n",
    "import keyword\n",
    "keyword.kwlist"
   ]
  },
  {
   "cell_type": "markdown",
   "id": "7566aebe",
   "metadata": {},
   "source": [
    "## Data Structure\n",
    "\n",
    "### List\n",
    "\n",
    "`list` digunakan untuk menyimpan beberapa nilai dalam python. Untuk membuatnya, cukup letakkan nilai di dalam tanda kurung (yaitu: `x = [1,2,3]` )\n",
    "\n",
    "Operasi list yang biasa digunakan\n",
    "- `x.append(a)` : tambahkan a ke x\n",
    "- `len(x)` : ekstrak panjang daftar\n",
    "- `x[i]` : mengakses elemen ke-i dari x"
   ]
  },
  {
   "cell_type": "code",
   "execution_count": null,
   "id": "aa0d43e2",
   "metadata": {},
   "outputs": [],
   "source": []
  },
  {
   "cell_type": "markdown",
   "id": "116ac6a7",
   "metadata": {},
   "source": [
    "### Dictionaries\n",
    "\n",
    "Kita telah belajar tentang urutan dalam Python tetapi sekarang kita akan beralih dan belajar tentang mapping pada Python. Jika Anda terbiasa dengan bahasa lain, Anda dapat menganggap Dictionaries ini sebagai tabel hash.\n",
    "\n",
    "Python dictionary terdiri dari **key** dan kemudian **value** terkait. Nilai itu bisa berupa hampir semua objek Python."
   ]
  },
  {
   "cell_type": "code",
   "execution_count": null,
   "id": "c6ed2daf",
   "metadata": {},
   "outputs": [],
   "source": []
  },
  {
   "cell_type": "markdown",
   "id": "661968e3",
   "metadata": {},
   "source": [
    "### Dataframe\n",
    "\n",
    "Dataframe merupakan sebuah struktur data tabular yang dapat diakses menggunakan library `pandas` yang biasanya digunakan ketika kita melakukan persiapan dan pembersihan data. Pada [dokumentasi official](https://pandas.pydata.org) dari pandas tertulis statement berikut:\n",
    "> Python has long been great for data munging and preparation, but less so for data analysis and modeling. pandas helps fill this gap, enabling you to carry out your entire data analysis workflow in Python without having to switch to a more domain specific language like R.\n",
    "\n",
    "Untuk menggunakan `pandas` kita akan menggunakan `import` function. Setelah di-import maka kita dapat mengakses berbagai fungsi `pandas` menggunakan notasi *pandas.function_name*."
   ]
  },
  {
   "cell_type": "code",
   "execution_count": null,
   "id": "108a85ec",
   "metadata": {},
   "outputs": [],
   "source": [
    "import pandas as pd\n",
    "print(pd.__version__)"
   ]
  },
  {
   "cell_type": "markdown",
   "id": "ae512363",
   "metadata": {},
   "source": [
    "Pada course ini kita akan membahas terkait fenomena tinggi muka air laut. Untuk mengakses data ini kita dapat menggunakan `pd.read_csv()`."
   ]
  },
  {
   "cell_type": "code",
   "execution_count": null,
   "id": "b7674d1d",
   "metadata": {},
   "outputs": [],
   "source": []
  },
  {
   "cell_type": "markdown",
   "id": "82ba715f",
   "metadata": {},
   "source": [
    "Untuk melihat 5 data teratas kita menggunakan method `head()`. Sebaliknya untuk melihat 5 data terbawah kita menggunakan method `tail()`. Data yang kita lihat tidak terbatas 5 jumlahnya. Kita dapat mengatur seberapa banyak data yang kita lihat menggunakan parameter `n` di dalam kedua method tersebut."
   ]
  },
  {
   "cell_type": "code",
   "execution_count": null,
   "id": "638b17a4",
   "metadata": {},
   "outputs": [],
   "source": []
  },
  {
   "cell_type": "markdown",
   "id": "721bf4c9",
   "metadata": {},
   "source": [
    "Untuk melihat informasi detail dari sebuah dataframe kita dapat menggunakan method `info()`."
   ]
  },
  {
   "cell_type": "code",
   "execution_count": null,
   "id": "dc6f0641",
   "metadata": {
    "scrolled": true
   },
   "outputs": [],
   "source": []
  },
  {
   "cell_type": "markdown",
   "id": "03a404ba",
   "metadata": {},
   "source": [
    "Beberapa informasi yang dapat kita ambil dari hasil keluaran `info()` yaitu:\n",
    "\n",
    "- Jumlah data kita sebesar 1215 baris/observasi\n",
    "- Terdapat 2 buah kolom yang secara spesifiknya sebagai berikut:\n",
    "    - `yearmonth`: terdapat 1215 non-NA data bertipe object\n",
    "    - `msl_mm`: terdapat 1215 non-NA data bertipe int64"
   ]
  },
  {
   "cell_type": "code",
   "execution_count": null,
   "id": "1fb1d1d0",
   "metadata": {},
   "outputs": [],
   "source": []
  },
  {
   "cell_type": "markdown",
   "id": "cbb79273",
   "metadata": {},
   "source": [
    "#### Subsetting \n",
    "\n",
    "Pada pandas dataframe, kita dapat mengambil kolom yang kita ingin lihat secara khusus atau ingin diubah (yang akan dibahas pada bagian berikutnya).\n",
    "Untuk melakukan hal ini kita akan menggunakan kurung siku `[]` setelah nama dataframe kita."
   ]
  },
  {
   "cell_type": "code",
   "execution_count": null,
   "id": "dfa66d30",
   "metadata": {},
   "outputs": [],
   "source": []
  },
  {
   "cell_type": "markdown",
   "id": "2172caca",
   "metadata": {},
   "source": [
    "#### Data Types\n",
    "\n",
    "Jika kita lihat pada bagian sebelumnya, hasil dari `info()` menampilkan bagian Dtype yang merupakan tipe data suatu kolom. Secara umum pandas akan mendefinisikan tipe datanya tetapi terkadang pandas akan mengeluarkan hasil yang salah sehingga kita harus melakukan pengubahan tipe data sendiri.\n",
    "\n",
    "Untuk pengecekan tipe data secara spesifik kita menggunakan attribute `dtypes`."
   ]
  },
  {
   "cell_type": "code",
   "execution_count": null,
   "id": "ee600c0e",
   "metadata": {},
   "outputs": [],
   "source": []
  },
  {
   "cell_type": "markdown",
   "id": "df49dd07",
   "metadata": {},
   "source": [
    "Pada kasus data kita, terdapat satu buah kolom yang kurang tepat tipe datanya yaitu `yearmonth`. Hal ini karena pandas memiliki tipe data `date` yang lebih sesuai untuk data kita ini. Pengubahan tipe data dapat menggunakan cara-cara berikut ini:\n",
    "\n",
    "- `df[\"column\"].astype(\"new_data_type\", format = \"%y/%m/%d\")`\n",
    "- `pd.to_datetime(df[\"column\"])`\n",
    "- menggunakan parameter parse_dates pada fungsi `read_csv()`, contohnya: `pd.read_csv(\"file\", parse_dates = [\"judul_kolom\"])`"
   ]
  },
  {
   "cell_type": "code",
   "execution_count": null,
   "id": "b65a1fab",
   "metadata": {},
   "outputs": [],
   "source": []
  },
  {
   "cell_type": "markdown",
   "id": "e0e9ab42",
   "metadata": {},
   "source": [
    "**Rangkuman tipe data pada pandas dataframe:**\n",
    "\n",
    "| Pandas dtype  | Python type  | NumPy type                                                     | Usage                                        |\n",
    "|---------------|--------------|----------------------------------------------------------------|----------------------------------------------|\n",
    "| object        | str or mixed | string_, unicode_, mixed types                                 | Text or mixed numeric and non-numeric values |\n",
    "| int64         | int          | int_, int8, int16, int32, int64, uint8, uint16, uint32, uint64 | Integer numbers                              |\n",
    "| float64       | float        | float_, float16, float32, float64                              | Floating point numbers                       |\n",
    "| bool          | bool         | bool_                                                          | True/False values                            |\n",
    "| datetime64    | NA           | datetime64[ns]                                                 | Date and time values                         |\n",
    "| timedelta[ns] | NA           | NA                                                             | Differences between two datetimes            |\n",
    "| category      | NA           | NA                                                             | Finite list of text values                   |\n",
    "\n",
    "Referensi: [Overview of Pandas Data Types](https://pbpython.com/pandas_dtypes.html)\n",
    "\n",
    "<!---\n",
    "|Tipe Data|String|Number|Boolean|\n",
    "|:-|:-|:-|:-|\n",
    "|Data tersimpan|Seluruh huruf, angka, maupun spesial karakter|Angka|True/False|\n",
    "|Karakteristik|diapit oleh tanda kutip (\"kata\") ketika didefinisikan|dapat dilakukan operasi matematika dan operasi perbandingan nilai (*/+- dan <>==) |jika diubah ke bentuk number bernilai 1 dan 0|\n",
    "-->"
   ]
  },
  {
   "cell_type": "markdown",
   "id": "4d3212a8",
   "metadata": {},
   "source": [
    "Jika kolom `yearmonth` kita sudah diubah menjadi tipe `datetime64`, kita dapat melakukan ekstraksi komponen waktu seperti tahun, bulan, dan hari. Berikut adalah syntax dari beberapa nilai yang biasa digunakan.\n",
    "\n",
    "**Date component (numeric)**\n",
    "- `.dt.year` -> partisi tahun\n",
    "- `.dt.month` -> partisi bulan (angka)\n",
    "- `.dt.day` -> partisi day/tanggal (dalam angka)\n",
    "- `.dt.dayofweek` -> Monday=0, Sunday=6\n",
    "\n",
    "**Date component (string)**\n",
    "- `.dt.month_name()`-> partisi bulan (nama)\n",
    "- `.dt.day_name()`-> partisi hari (nama)\n",
    "\n",
    "[Klik di sini untuk Dokumentasinya](https://pandas.pydata.org/pandas-docs/stable/reference/series.html#datetimelike-properties)"
   ]
  },
  {
   "cell_type": "code",
   "execution_count": null,
   "id": "65bbfcbd",
   "metadata": {},
   "outputs": [],
   "source": []
  },
  {
   "cell_type": "markdown",
   "id": "9ab64121",
   "metadata": {},
   "source": [
    "#### Conditional Subsetting\n",
    "\n",
    "Tidak hanya bisa memilih suatu kolom, menggunakan pandas kita juga dapat memberikan syarat nilai yang kita inginkan. Contoh syarat yang bisa digunakan:\n",
    "```python\n",
    "df[\"judul_kolom\"] == suatu_nilai\n",
    "```\n",
    "\n",
    "Jika data kita berbentuk numerik, kita juga dapat menggunakan operator seperti ==, !=, >, <, >=, <="
   ]
  },
  {
   "cell_type": "code",
   "execution_count": null,
   "id": "7218be8e",
   "metadata": {},
   "outputs": [],
   "source": []
  },
  {
   "cell_type": "markdown",
   "id": "318795c1",
   "metadata": {},
   "source": [
    "#### Playing with Dataframe Index\n",
    "\n",
    "Index dari dataframe dapat diubah sesuai kebutuhan, terdapat 2 buah method yang biasa digunakan yaitu:\n",
    "- `.reset_index()`: mengambil informasi index menjadi kolom \n",
    "- `.set_index()`: menentukan index berdasarkan judul kolom"
   ]
  },
  {
   "cell_type": "code",
   "execution_count": null,
   "id": "1deedab1",
   "metadata": {},
   "outputs": [],
   "source": []
  },
  {
   "cell_type": "markdown",
   "id": "8d1b3770",
   "metadata": {},
   "source": [
    "## Specific Data Structure\n",
    "\n",
    "### Numpy Array\n",
    "\n",
    "Numpy adalah library utama untuk scientific computing menggunakan Python. Library ini menyediakan objek multidimensional array  dan berbagai function yang dapat dimanfaatkan untuk array tersebut.\n",
    "\n",
    "**Numpy array** adalah kumpulan nilai, yang memiliki tipe data yang sama, dan diindeks oleh tuple bilangan bulat non-negatif. \n",
    "Jumlah dimensi adalah deretan array; bentuk array adalah tuple bilangan bulat yang menunjukkan ukuran array pada setiap dimensi."
   ]
  },
  {
   "cell_type": "code",
   "execution_count": null,
   "id": "43ef84d9",
   "metadata": {},
   "outputs": [],
   "source": [
    "import numpy as np"
   ]
  },
  {
   "cell_type": "code",
   "execution_count": null,
   "id": "cd750feb",
   "metadata": {},
   "outputs": [],
   "source": [
    "np.random.seed(2102)\n",
    "dummy = np.random.randint(1,100, size=(3,4,5))\n",
    "dummy"
   ]
  },
  {
   "cell_type": "markdown",
   "id": "15ce73a0",
   "metadata": {},
   "source": [
    "### Tensor\n",
    "\n",
    "Secara bentuknya tensor sama saja dengan numpy array yaitu sebuah n-dimensional array. Yang membedakan keduanya adalah kita dapat melakukan komputasi menggunakan GPU pada PyTorch. Input dari model PyTorch sendiri nantinya haruslah dimulai dari bentuk tensor."
   ]
  },
  {
   "cell_type": "code",
   "execution_count": null,
   "id": "ea788081",
   "metadata": {
    "scrolled": true
   },
   "outputs": [],
   "source": [
    "import torch"
   ]
  },
  {
   "cell_type": "markdown",
   "id": "c492fca5",
   "metadata": {},
   "source": [
    "#### Konversi numpy array ke torch tensor\n",
    "\n",
    "Pembentukan tensor menggunakan method `.tensor()` dari library torch. Jika ingin mengubah ke bentuk spesifik, kita dapat mengubah tipe data di dalamnya menggunakan parameter `dtype` atau bisa menggunakan method spesifiknya. Catatan method ini dapat dilihat melalui [link berikut](https://pytorch.org/docs/stable/tensors.html)."
   ]
  },
  {
   "cell_type": "code",
   "execution_count": null,
   "id": "6632ecad",
   "metadata": {
    "scrolled": true
   },
   "outputs": [],
   "source": [
    "dummy_tensor = \n"
   ]
  },
  {
   "cell_type": "markdown",
   "id": "683c2509",
   "metadata": {},
   "source": [
    "#### Shape & reshaping\n",
    "\n",
    "Untuk melihat bentuk tensor, kita dapat menggunakan atribut `.shape` ke object tensor kita.\n",
    "Sementara untuk mengubah bentuknya, kita gunakan method `view()` dan masukkan bentuk yang kita inginkan."
   ]
  },
  {
   "cell_type": "code",
   "execution_count": null,
   "id": "889338f8",
   "metadata": {},
   "outputs": [],
   "source": [
    "# cek shape\n"
   ]
  },
  {
   "cell_type": "code",
   "execution_count": null,
   "id": "e8e4cf7b",
   "metadata": {},
   "outputs": [],
   "source": [
    "# reshaping\n"
   ]
  },
  {
   "cell_type": "markdown",
   "id": "9e7b2da3",
   "metadata": {},
   "source": [
    "#### Konversi torch tensor ke numpy array atau ke python object\n",
    "\n",
    "Bentuk tensor dapat diubah kembali ke bentuk numpy array maupun python object. Untuk mengubah kembali ke bentuk numpy array, ktia cukup menggunakan method `.numpy()`. Sementara untuk mengembalikan ke bentuk python object dapat menggunakan `.item()`\n",
    "dengan catatan bahwa pengembalian ke dalam bentuk python object hanya dapat dilakukan untuk tensor berdimensi 1 (hanya memiliki 1 nilai saja). "
   ]
  },
  {
   "cell_type": "code",
   "execution_count": null,
   "id": "3bfc30df",
   "metadata": {},
   "outputs": [],
   "source": [
    "# ke numpy array\n"
   ]
  },
  {
   "cell_type": "code",
   "execution_count": null,
   "id": "945370e2",
   "metadata": {},
   "outputs": [],
   "source": [
    "# ke python \n"
   ]
  },
  {
   "cell_type": "markdown",
   "id": "80acced8",
   "metadata": {},
   "source": [
    "## Function\n",
    "\n",
    "Function merupakan sekelompok perintah yang digunakan untuk melakukan tugas tertentu. Ketika kita melakukan sesuatu yang berulang dan rumit, alangkah baiknya kita menggunakan fungsi agar tidak ada langkah yang berubah maupun penulisan kode yang salah. Penulisan umum sebuah fungsi yaitu:\n",
    "```python\n",
    "def nama_fungsi(parameter):\n",
    "    perintah\n",
    "```\n",
    "Pada syntax umum di atas, `def` merupakan inisiator untuk sebuah fungsi. Sementara hal-hal yang harus kita tentukan yaitu nama dari fungsi, parameter yang akan digunakan di dalamnya, serta perintah atau kode. \n",
    "\n",
    "Sebagai contoh, kita akan membuat sebuah fungsi pemanggilan nama."
   ]
  },
  {
   "cell_type": "code",
   "execution_count": null,
   "id": "4f853387",
   "metadata": {},
   "outputs": [],
   "source": []
  },
  {
   "cell_type": "markdown",
   "id": "087ce918",
   "metadata": {},
   "source": [
    "## Class\n",
    "\n",
    "Python adalah bahasa pemrograman yang berorientasi pada object (Object Oriented Programming). Oleh karena itu hampir seluruh hal yang ada di python adalah object. Class sendiri dapat dikatakan \"blueprint\" dari sebuah object. Penulisan umum sebuah class yaitu:\n",
    "```python\n",
    "class nama_class:\n",
    "    def __init__(self, parameter):\n",
    "        self.parameter = parameter\n",
    "```\n",
    "Syntax di atas kita menggunakan `class` untuk mendefinisikan dan memulai sebuah class. Agar lebih jelas kita akan coba membuat sebuah kelas tentang identitas dimana pengguna akan memasukkan nilai **nama, umur, dan domisili**."
   ]
  },
  {
   "cell_type": "code",
   "execution_count": null,
   "id": "309d410c",
   "metadata": {},
   "outputs": [],
   "source": []
  },
  {
   "cell_type": "markdown",
   "id": "69185bd8",
   "metadata": {},
   "source": [
    "Pada kasus di atas kita mendefinisikan sebuah method dari class kita, yaitu nama, umur, dan domisili. Sebuah class tidak terbatas pada hanya pendefinisian attribute saja melainkan kita juga dapat mendefinisikan sebuah method. Contohnya adalah ketika kita ingin melakukan **update nilai dari domisili** yang artinya kita mengganti nilai awal yang telah kita masukkan. Berikut adalah contohnya."
   ]
  },
  {
   "cell_type": "code",
   "execution_count": null,
   "id": "7e9b1db4",
   "metadata": {},
   "outputs": [],
   "source": []
  },
  {
   "cell_type": "markdown",
   "id": "5afef202",
   "metadata": {},
   "source": [
    "### Inheritance\n",
    "\n",
    "Inheritance merupakan sebuah metode pada python dimana kita dapat mendefinisikan sebuah class yang memiliki method dan attribute dari class lain. Sebagai contoh jika kita memiliki class A dan kita ingin menggunakan method dan attribute yang terdapat pada class A pada class B, kita tidak harus menulis class A kembali.\n",
    "Pada kasus di atas class A disebut sebagai parent class dan class B sebagai child class.\n",
    "\n",
    "Untuk lebih memahaminya, kita akan menggunakan class Identity yang telah dibuat sebelumnya untuk membuat class baru yaitu Background, dimana pada class ini terdapat informasi yang sama dengan informasi class Identity tetapi terdapat tambahan berupa **universitas dan tahun lulus**."
   ]
  },
  {
   "cell_type": "code",
   "execution_count": null,
   "id": "f9835c91",
   "metadata": {},
   "outputs": [],
   "source": []
  },
  {
   "cell_type": "code",
   "execution_count": null,
   "id": "32c312a4",
   "metadata": {},
   "outputs": [],
   "source": []
  },
  {
   "cell_type": "markdown",
   "id": "f5072b7f",
   "metadata": {},
   "source": [
    "**Notes:**\n",
    "\n",
    "Mempelajari class dan inheritance menjadi penting ketika menggunakan pytorch, hal ini karena kita akan membuat class dengan mengambil properties dan method yang telah dibangun oleh pytorch pada model kita nanti."
   ]
  },
  {
   "cell_type": "markdown",
   "id": "1b52c39f",
   "metadata": {},
   "source": [
    "## Looping in Python\n",
    "\n",
    "Looping merupakan sebuah metode untuk melakukan perulangan sebuah proses pada batas yang kita tentukan. Pada python terdapat 2 jenis looping yaitu `for` dan `while` loop dan pada course kali ini kita akan berfokus pada `for` loop.\n",
    "\n",
    "Secara umum, syntax dari `for` loop adalah:\n",
    "```python\n",
    "for i in range(n):\n",
    "    '''do_something_here'''\n",
    "```\n",
    "\n",
    "Dari syntax tersebut, secara naratif kita bisa membacanya sebagai lakukan suatu hal (perintah kita) selama masih dalam range nilai n. Jika sudah mencapai batas nilai yang ditentukan (n) maka perulangan akan berhenti."
   ]
  },
  {
   "cell_type": "code",
   "execution_count": null,
   "id": "82be96b8",
   "metadata": {},
   "outputs": [],
   "source": []
  },
  {
   "cell_type": "markdown",
   "id": "03ebbc5e",
   "metadata": {},
   "source": [
    "# Neural Network\n",
    "\n",
    "**Neural network** atau artificial neural network (ANN) adalah metode machine learning yang *terinspirasi dari cara kerja otak manusia* mengirimkan informasi melalui sistem saraf (biological neural network). Terdapat 2 hal utama dari neural network: **arsitektur** & **learning process** yang dilakukan.\n",
    "\n",
    "## Arsitektur Neural Network\n",
    "\n",
    "Sistem saraf yang dimiliki manusia terdiri dari sel saraf yang dinamakan **neuron**, dan neuron tersebut amat banyak hingga membentuk **jaringan**. Tiap stimulus/input dari luar akan diterima oleh panca indra sebagai signal kemudian akan dialirkan melalui satu sel saraf ke sel saraf lainnya. Jaringan sel saraf tersebar dari ujung jari hingga otak dan berlanjut kembali ke seluruh tubuh kita. \n",
    "    \n",
    "> Jaringan sel saraf mengalirkan informasi dari area stimulus/**input**, diproses melalui otak, lalu dikembalikan kepada tubuh sebagai **output** atau respon yang kita berikan.\n",
    "\n",
    "Human Neuron  |  Artificial Neural Network's Neuron\n",
    "-- | --\n",
    "![neuron](assets/bnn.png) | ![neuron](assets/ann.PNG)\n",
    "\n",
    "Arsitektur sistem saraf inilah yang menginspirasi terbentuknya model neural network. Berikut adalah gambar lebih jelas dari skema model neural network:\n",
    "\n",
    "![neuron](assets/ann.PNG)\n",
    "💡 Pada model neural network, informasi dialirkan dan diproses melalui arsitektur yang terdiri dari:\n",
    "\n",
    "* **neuron/node**: tempat informasi disimpan\n",
    "* **input layer**: layer yang menerima input sekaligus layer pertama; node sejumlah variable input/prediktor (x1, x2, ..., xn)\n",
    "* **hidden layer**: layer antara input & output, tempat *proses informasi*; jumlah layernya bisa lebih dari 1, yang menentukan adalah user\n",
    "* **output layer**: layer yang mengeluarkan output (hasil prediksi) sekaligus layer terakhir; node sejumlah variabel target (y)\n",
    "- _**weight**_: informasi yang dibawa oleh setiap neuron. Awalnya bobot ini akan di inisialisasi secara random."
   ]
  },
  {
   "cell_type": "markdown",
   "id": "a820eff1",
   "metadata": {},
   "source": [
    "## Learning Process in Neural Network\n",
    "\n",
    "Neural Network bekerja dengan mengevaluasi error dan mengupdate nilai bobot/weight. 1 Proses mengevaluasi dan mengupdate bobot disebut dengan 1 step/epoch. 1 step terdiri dari 2 fase:\n",
    "\n",
    "* **Feed Forward** : Memprediksi nilai target (y)\n",
    "* **Back Propagation** : Mengupdate nilai bobot berdasarkan nilai error yang didapatkan\n",
    "\n",
    "![nn works](assets/nn_works.png)\n",
    "\n",
    "1. Membuat weight dan bias secara random\n",
    "\n",
    "Ulangi langkah berikut hingga mencapai konvergen (tidak mengalami penurunan error yang signifikan) atau batas yang ditentukan (jumlah step):\n",
    "\n",
    "2. Feed Forward : Memprediksi nilai target y sesuai dengan bobot yang dimiliki sekarang\n",
    "\n",
    "3. Menghitung nilai error\n",
    "\n",
    "4. Back Propagation : Mencari perubahan bobot yang memberikan error minimum\n",
    "\n",
    "5. Update Bobot sesuai hasil Back Propagation\n",
    "\n",
    "### Feed Forward\n",
    "\n",
    "Feed forward adalah proses model memprediksi nilai target berdasarkan bobot dan bias yang dimiliki. Pada ilustrasi berikut, model akan menerima input dari setiap prediktor/feature yang kemudian akan diolah sesuai dengan bobot dari masing-masing neuron/node ditambah dengan nilai biasnya. \n",
    "\n",
    "- Tanda `S` pada hidden layer dan output layer menunjukkan bahwa terjadi perubahan skala data menjadi 0-1 karena kita menggunakan activation function berupa `Sigmoid Function`.\n",
    "\n",
    "![feed forward](assets/forward.gif)\n",
    "\n",
    "### Activation Functions\n",
    "\n",
    "**Activation Function** berfungsi untuk mentransformasi input sebelum diteruskan ke layer selanjutnya sesuai dengan kebutuhan. Istilah activation function terinspirasi dari cara otak bekerja dengan mengaktifkan atau menonaktifkan sel syaraf. Hal ini bermanfaat agar:\n",
    "\n",
    "* nilai yang diteruskan sudah dalam bentuk sepatutnya (misal output klasifikasi berupa peluang: 0~1)\n",
    "* menjaga agar nilai yang diteruskan ke node-node selanjutnya tidak semakin besar dan memperberat komputasi.\n",
    "\n",
    "💡 Beberapa jenis activation function:\n",
    "\n",
    "- **Linier**\n",
    "    + jenis default perhitungan linier \n",
    "    \n",
    "- Tanh\n",
    "    + (Hyperbolic tangent) : digunakan pada hidden layer\n",
    "    + Alternatif untuk sigmoid. Skala output yang dihasilkan adalah -1 hingga 1 (zero centered).\n",
    "\n",
    "- **Rectified Linear unit (ReLU)**\n",
    "    + Biasa digunakan di hidden layer. bagus untuk kasus image (range 0 ~ inf)\n",
    "    + Jika nilai inputnya kurang dari 0 (negatif), maka diubah menjadi 0.\n",
    "\n",
    "- Logistic (sigmoid)\n",
    "    + Cocok di output dan untuk kasus klasifikasi (biner) (range 0 ~ 1).\n",
    "    + Mengkonversi nilai numerik menjadi skala 0-1, sehingga cocok untuk klasifikasi 2 kelas.  \n",
    "\n",
    "- Softmax\n",
    "    + Biasa digunakan di output layer untuk kasus klasifikasi (multiclass) (range 0 ~ 1)\n",
    "    + Sama seperti dengan sigmoid, hanya saja dapat menerima lebih dari 2 kelas (multiclass). Softmax akan memastikan bahwa output dari sebuah vektor adalah distribusi peluang yang jika ditotal semuanya adalah 1. Misalkan untuk klasifikasi dengan 3 kelas (high, low, normal) maka peluang dari masing-masing kelas saat ditotal adalah 1.\n",
    "\n",
    "\n",
    "<img src=\"https://drive.google.com/uc?export=view&id=1KAcL458IRdWsMYfTSZRA6K61zAhrAeY9\" width=\"80%\">"
   ]
  },
  {
   "cell_type": "markdown",
   "id": "381a06ed",
   "metadata": {},
   "source": [
    "### Loss Function / Cost Function (Error)\n",
    "\n",
    "Loss function digunakan untuk pedoman belajar dari model Neural Network. Loss function untuk setiap jenis permasalahan bisa berbeda-beda. Dokumentasi dapat dilihat pada: https://pytorch.org/docs/stable/nn.html#loss-functions\n",
    "\n",
    "Memilih Loss Function yang tepat untuk problem yang tepat sangatlah penting: Neural Network akan mengambil jalan pintas apa pun yang dapat dilakukan untuk meminimalkan kerugian. Loss function, yang dapat digunakan untuk mengestimasi kerugian model sehingga bobot dapat diperbarui untuk mengurangi kerugian pada evaluasi berikutnya.\n",
    "\n",
    "+ Pada kasus regresi /target variabel numerik, loss yang biasa digunakan adalah:\n",
    "    - **MSE atau Mean Squared Error**. \n",
    "        + Seperti namanya, kerugian ini dihitung dengan mengambil rata-rata perbedaan kuadrat antara nilai aktual (target) dan prediksi. Pengkuadratan berarti bahwa kesalahan yang lebih besar menghasilkan lebih banyak kesalahan daripada kesalahan yang lebih kecil, artinya model dihukum karena membuat kesalahan yang lebih besar.\n",
    "    - **MAE atau Mean Absolute Error**\n",
    "        + Kerugian ini dihitung sebagai rata-rata perbedaan absolut antara nilai aktual dan prediksi. Cocok digunakan untuk data yang memiliki banyak outlier. "
   ]
  },
  {
   "cell_type": "markdown",
   "id": "f60e9f3e",
   "metadata": {},
   "source": [
    "### Backpropagation\n",
    "\n",
    "Back Propagation adalah proses mengupdate bobot berdasarkan informasi yang didapatkan dari error hasil prediksi. Informasi yang dicari adalah informasi tentang nilai update yang optimal dengan menggunakan nilai gradient, sehingga metodenya disebut dengan *Gradient Descent*. Untuk mengatur seberapa cepat dan detail model belajar, nilai *Learning Rate* dapat diatur. Semakin kecil learning rate, semakin detail model belajar. Nilai yang biasa digunakan untuk Learning Rate adalah 0.01.\n",
    "\n",
    "Gradient Descent akan membuat model belajar mencari nilai dari masing-masing bobot yang tepat sehingga mendapatkan loss yang semakin kecil. Besar penambahan/penurunan bobot adalah `bobot awal - (gradient x learning rate)`. **Learning rate** adalah seberapa cepat model melakukan update bobot (range: 0 ~ 1):\n",
    "\n",
    "- learning rate rendah:\n",
    "     + membuat model mengupdate bobot sedikit demi sedikit\n",
    "     + waktu untuk mencapai titik lokal optimum dari bobot akan lebih lama\n",
    "     + Namun, jika model sudah menyentuh **local optima** atau titik terendah di antara dua area yang lebih tinggi errornya, model akan sulit untuk lepas dari area tersebut sehingga terdapat kemungkinan juga model tidak bisa mendapatkan **global optima** atau error yang paling rendah.\n",
    "- learning rate tinggi:\n",
    "     + membuat model belajar lebih cepat dengan jumlah step yang lebih sedikit\n",
    "     + kemungkinan besar akan melewatkan titik terendahnya sehingga tidak bisa mencapai nilai error yang optimal.\n",
    "- Pemilihan learning rate adalah salah satu hal yang penting dalam membuat Neural Network.\n",
    "\n",
    "![learning rate](assets/learning_rate.jpg)\n",
    "\n",
    "Apabila tertarik dengan matematika di balik *Gradient Descent*, dapat mengunjungi:\n",
    "- https://ruder.io/optimizing-gradient-descent/\n",
    "- https://jermwatt.github.io/machine_learning_refined/notes/3_First_order_methods/3_6_Descent.html"
   ]
  },
  {
   "cell_type": "markdown",
   "id": "ffb1e3c6",
   "metadata": {},
   "source": [
    "## Hyperparameter Tuning\n",
    "\n",
    "**Learning Rate**\\\n",
    "Learning Rate mempengaruhi seberapa cepat model akan belajar. Tingkat pembelajaran yang besar mungkin menghasilkan waktu yang lebih cepat untuk konvergen tetapi meningkatkan risiko terjebak dalam local optima.\n",
    "\n",
    "**Epoch** \\\n",
    "Epoch yang besar akan memberikan model kesempatan untuk mempelajari data lebih banyak, diharapkan menghasilkan kinerja yang lebih baik dari waktu ke waktu. Namun, model mungkin terkena masalah overfit.\n",
    "\n",
    "## Batch Learning\n",
    "\n",
    "Batch Learning tidak ada hubungannya dengan kinerja model. Namun, hal ini mempengaruhi penggunaan memori untuk setiap model yang kita gunakan.\n",
    "\n",
    "Training tanpa membagi data menjadi batch-batch kecil akan membuat proses learning dilakukan setelah seluruh data terproses, sementara jika menggunakan partial batch proses evaluasi dan pembaruan bobot akan dilakukan pada setiap batch.\n",
    "Semakin besar ukuran batch, semakin banyak memori yang dibutuhkan untuk melakukan satu siklus pembelajaran (feed forward + backpropagation) tetapi waktu pembelajaran lebih cepat. Disarankan untuk menjaga agar batch tetap rendah untuk mencegah kegagalan model saat memprediksi data.\n",
    "\n",
    "Pada pytorch, batch size ditentukan ketika mendefinisikan `DataLoader` yaitu pada parameter `batch_size`.\n",
    "\n",
    "**Hal yang perlu diperhatikan**\n",
    "1. Semakin banyak batch (ukuran batch) \n",
    "    - Prosesnya akan semakin lama karena proses optimasi model semakin banyak\n",
    "    - Namun bisa mencegah beban komputasi yang besar di satu waktu sekaligus\n",
    "2. Semakin banyak epoch:\n",
    "    - Erronya semakin kecil\n",
    "    - Prosesnya semakin lama\n",
    "    - Rentan overfit (keadaan dimana nilai train lebih bagus daripada test/validation)\n",
    "    - Biasanya untuk menentukan epoch diawal bisa menggunakan 10/15\n",
    "   "
   ]
  },
  {
   "cell_type": "markdown",
   "id": "cc73b8ae",
   "metadata": {},
   "source": [
    "**Contoh implementasi neural network menggunakan PyTorch tidak akan dibahas di kelas, tetapi jika ingin melakukan eksplorasi bisa menonton [video tutorial ini](https://www.youtube.com/playlist?list=PLXsFtK46HZxWKgwYZzh_c2MmGxIDnRGUT).**"
   ]
  },
  {
   "cell_type": "markdown",
   "id": "c7dfa5d2",
   "metadata": {},
   "source": [
    "# Tidal theory\n",
    "\n",
    "Pada course kali ini kita akan secara khusus membahas terkait kasus naik turunnya tinggi muka air laut atau biasa disebut sebagai pasang surut. Fenomena ini terjadi karena adanya gaya tarik gravitasi dari bulan dan matahari yang digambarkan sebagai berikut.\n",
    "\n",
    "<img src=\"https://cdn.britannica.com/79/94579-050-608F6924/Earth-Tides-pull-water-Sun-and-the.jpg\" width=\"70%\">\n",
    "\n",
    "Fenomena pasang surut (pasut) secara umum adalah hasil dari superposisi berbagai komponen gelombang laut (yang juga diakibatkan oleh gaya tarik bulan dan matahari). Selain itu lingkungan juga berperan dalam mempengaruhi tinggi muka air laut, seperti kedalaman perairan, bentuk pantai, dsb. Hal ini menyebabkan kondisi pasang surut di setiap lokasi di dunia akan berbeda baik ketinggian serta polanya. Komponen gelombang laut ini diwaliki oleh nilai-nilai yang sering disebut sebagai konstanta harmonik dan contoh dari konstanta ini dapat dilihat pada [link berikut](https://tidesandcurrents.noaa.gov/harcon.html?id=9410170).\n",
    "\n",
    "Konstanta harmonik di atas biasanya didapatkan dari berbagai metode, salah satu yang sering digunakan adalah metode admiralty dari data hasil pengukuran. Jika konstanta harmonik sudah kita dapatkan, sebenarnya kita dapat menghitung kenaikan tinggi muka air laut secara sederhana dan dapat digunakan untuk meramalkan tinggi muka air laut. \n",
    "\n",
    "Berdasarkan penelitian dengan menggunakan metode harmonik ini, didapatkan bahwa pasang surut secara general dipengaruhi oleh siklus astronomi dengan periode 18.6 tahun. Artinya akan terdapat pola naik dan turun yang berbeda tetapi setiap 18.6 tahun pola tersebut akan berulang. Fenomena lebih lengkap terkait hal ini dapat dibaca pada [link berikut](https://noc.ac.uk/news/highest-tides-186-years).\n",
    "\n",
    "Sayangnya metode perhitungan menggunakan konstanta di atas hanya memperhitungkan tinggi muka air laut berdasarkan fenomena gaya tarik bulan dan matahari serta dengan asumsi siklus hidrologi berjalan dengan seimbang. Sementara dengan adanya efek gas rumah kaca yang menyebabkan perubahan iklim, jumlah es yang meleleh tidak lagi seimbang dengan pembentukannya, sehingga hal ini menyebabkan volume air di laut bertambah dari waktu ke waktu. \n",
    "\n",
    "<img src=https://cdn.britannica.com/89/62689-050-66A0068F/water-hydrologic-cycle-land-surface-atmosphere-ocean.jpg width=\"70%\"> \n",
    "\n",
    "Selain akibat dari perubahan iklim, masih terdapat faktor eksternal lain yang berpengaruh seperti penurunan muka tanah akibat penggunaan air tanah yang berlebihan salah satu contohnya yang terjadi di area Jakarta (spesifik untuk Jakarta Utara yang berbatasan langsung dengan laut, source: [paper](https://www.researchgate.net/publication/251389443_Land_subsidence_of_Jakarta_Indonesia_and_its_relation_with_urban_development)).\n",
    "\n",
    "Oleh karena hal itu mulai terdapat penelitian menggunakan machine learning sebagai metode untuk memperkirakan tinggi muka air laut. Hal ini karena machine learning dapat memperhitungkan efek-efek eksternal tersebut karena mempelajari pola data."
   ]
  },
  {
   "cell_type": "markdown",
   "id": "5b118331",
   "metadata": {},
   "source": [
    "# Recurrent Neural Network\n",
    "\n",
    "Pada kasus data time series seperti kasus kita sekarang, informasi dari urutan data sangatlah penting karena model mempelajari pola berdasarkan urutan datanya. Hal ini tidak difasilitasi oleh model Neural Network biasa karena model Neural Network biasa akan mengambil data secara random pada proses learningnya dan tidak memedulikan urutan. Oleh karena hal itulah digunakan metode bernama Recurrent Neural Network (RNN). \n",
    "\n",
    "## Perbedaan RNN dengan vanilla Neural Network\n",
    "\n",
    "Arsitektur dari RNN mirip dengan arsitektur Neural Network, bedanya adalah hidden layer dari satu proses feed forward akan digunakan sebagai input pada feed forward selanjutnya, hal ini disebut sebagai memori. Skema dari RNN digambarkan sebagai berikut:\n",
    "\n",
    "<img src=\"assets/nn_vs_rnn.png\" width = \"70%\">\n",
    "\n",
    "Oleh karena itu, input dari RNN meliputi fitur yang kita gunakan serta informasi hidden layer sebelumnya. Jika kita gambarkan secara umum, maka proses pembelajaran dari RNN akan menjadi seperti berikut:\n",
    "\n",
    "<img src=\"https://cdn.jsdelivr.net/gh/AuthurWhywait/images/20211202145041.png\" width=\"70%\">"
   ]
  },
  {
   "cell_type": "markdown",
   "id": "ebafce61",
   "metadata": {},
   "source": [
    "# Reference\n",
    "\n",
    "Tidal theory\n",
    "1. https://www.britannica.com/science/tide\n",
    "2. https://tidesandcurrents.noaa.gov/constitu.html\n",
    "3. https://noc.ac.uk/news/highest-tides-186-years\n",
    "4. https://oceanservice.noaa.gov/education/tutorial_tides/tides02_cause.html\n",
    "5. https://web.njit.edu/~gary/320/Lecture12.html\n",
    "6. https://www.britannica.com/science/water-cycle\n",
    "\n",
    "Recurrent Neural Network <br>\n",
    "\n",
    "7. https://authurwhywait.github.io/blog/2021/12/02/introduction_to_dl02/\n",
    "8. http://karpathy.github.io/2015/05/21/rnn-effectiveness/\n",
    "9. https://www.kaggle.com/code/namanmanchanda/rnn-in-pytorch/notebook\n",
    "10. https://www.simplilearn.com/tutorials/deep-learning-tutorial/rnn"
   ]
  },
  {
   "cell_type": "code",
   "execution_count": null,
   "id": "167b8a70",
   "metadata": {},
   "outputs": [],
   "source": []
  }
 ],
 "metadata": {
  "kernelspec": {
   "display_name": "Python [conda env:oopytorch]",
   "language": "python",
   "name": "conda-env-oopytorch-py"
  },
  "language_info": {
   "codemirror_mode": {
    "name": "ipython",
    "version": 3
   },
   "file_extension": ".py",
   "mimetype": "text/x-python",
   "name": "python",
   "nbconvert_exporter": "python",
   "pygments_lexer": "ipython3",
   "version": "3.10.9"
  },
  "toc": {
   "base_numbering": 1,
   "nav_menu": {},
   "number_sections": true,
   "sideBar": true,
   "skip_h1_title": false,
   "title_cell": "Table of Contents",
   "title_sidebar": "Contents",
   "toc_cell": false,
   "toc_position": {
    "height": "calc(100% - 180px)",
    "left": "10px",
    "top": "150px",
    "width": "281.344px"
   },
   "toc_section_display": true,
   "toc_window_display": false
  },
  "varInspector": {
   "cols": {
    "lenName": 16,
    "lenType": 16,
    "lenVar": 40
   },
   "kernels_config": {
    "python": {
     "delete_cmd_postfix": "",
     "delete_cmd_prefix": "del ",
     "library": "var_list.py",
     "varRefreshCmd": "print(var_dic_list())"
    },
    "r": {
     "delete_cmd_postfix": ") ",
     "delete_cmd_prefix": "rm(",
     "library": "var_list.r",
     "varRefreshCmd": "cat(var_dic_list()) "
    }
   },
   "types_to_exclude": [
    "module",
    "function",
    "builtin_function_or_method",
    "instance",
    "_Feature"
   ],
   "window_display": false
  }
 },
 "nbformat": 4,
 "nbformat_minor": 5
}
